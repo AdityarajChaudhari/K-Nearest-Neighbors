{
 "cells": [
  {
   "cell_type": "code",
   "execution_count": 160,
   "metadata": {},
   "outputs": [],
   "source": [
    "import numpy as np\n",
    "import pandas as pd\n",
    "import matplotlib.pyplot as plt\n",
    "import seaborn as sbn"
   ]
  },
  {
   "cell_type": "code",
   "execution_count": 161,
   "metadata": {},
   "outputs": [
    {
     "data": {
      "text/html": [
       "<div>\n",
       "<style scoped>\n",
       "    .dataframe tbody tr th:only-of-type {\n",
       "        vertical-align: middle;\n",
       "    }\n",
       "\n",
       "    .dataframe tbody tr th {\n",
       "        vertical-align: top;\n",
       "    }\n",
       "\n",
       "    .dataframe thead th {\n",
       "        text-align: right;\n",
       "    }\n",
       "</style>\n",
       "<table border=\"1\" class=\"dataframe\">\n",
       "  <thead>\n",
       "    <tr style=\"text-align: right;\">\n",
       "      <th></th>\n",
       "      <th>30</th>\n",
       "      <th>64</th>\n",
       "      <th>1</th>\n",
       "      <th>1.1</th>\n",
       "    </tr>\n",
       "  </thead>\n",
       "  <tbody>\n",
       "    <tr>\n",
       "      <th>0</th>\n",
       "      <td>30</td>\n",
       "      <td>62</td>\n",
       "      <td>3</td>\n",
       "      <td>1</td>\n",
       "    </tr>\n",
       "    <tr>\n",
       "      <th>1</th>\n",
       "      <td>30</td>\n",
       "      <td>65</td>\n",
       "      <td>0</td>\n",
       "      <td>1</td>\n",
       "    </tr>\n",
       "    <tr>\n",
       "      <th>2</th>\n",
       "      <td>31</td>\n",
       "      <td>59</td>\n",
       "      <td>2</td>\n",
       "      <td>1</td>\n",
       "    </tr>\n",
       "    <tr>\n",
       "      <th>3</th>\n",
       "      <td>31</td>\n",
       "      <td>65</td>\n",
       "      <td>4</td>\n",
       "      <td>1</td>\n",
       "    </tr>\n",
       "    <tr>\n",
       "      <th>4</th>\n",
       "      <td>33</td>\n",
       "      <td>58</td>\n",
       "      <td>10</td>\n",
       "      <td>1</td>\n",
       "    </tr>\n",
       "  </tbody>\n",
       "</table>\n",
       "</div>"
      ],
      "text/plain": [
       "   30  64   1  1.1\n",
       "0  30  62   3    1\n",
       "1  30  65   0    1\n",
       "2  31  59   2    1\n",
       "3  31  65   4    1\n",
       "4  33  58  10    1"
      ]
     },
     "execution_count": 161,
     "metadata": {},
     "output_type": "execute_result"
    }
   ],
   "source": [
    "data = pd.read_csv(r'D:\\Datasets\\haberman.csv')\n",
    "data.head()"
   ]
  },
  {
   "cell_type": "code",
   "execution_count": 162,
   "metadata": {},
   "outputs": [],
   "source": [
    "data.rename({'30':'Age','64':'Year_of_treatment','1':'No_of_pos_ax_nodes','1.1':'survival_status'},axis=1,inplace=True)"
   ]
  },
  {
   "cell_type": "code",
   "execution_count": 163,
   "metadata": {},
   "outputs": [
    {
     "data": {
      "text/html": [
       "<div>\n",
       "<style scoped>\n",
       "    .dataframe tbody tr th:only-of-type {\n",
       "        vertical-align: middle;\n",
       "    }\n",
       "\n",
       "    .dataframe tbody tr th {\n",
       "        vertical-align: top;\n",
       "    }\n",
       "\n",
       "    .dataframe thead th {\n",
       "        text-align: right;\n",
       "    }\n",
       "</style>\n",
       "<table border=\"1\" class=\"dataframe\">\n",
       "  <thead>\n",
       "    <tr style=\"text-align: right;\">\n",
       "      <th></th>\n",
       "      <th>Age</th>\n",
       "      <th>Year_of_treatment</th>\n",
       "      <th>No_of_pos_ax_nodes</th>\n",
       "      <th>survival_status</th>\n",
       "    </tr>\n",
       "  </thead>\n",
       "  <tbody>\n",
       "    <tr>\n",
       "      <th>0</th>\n",
       "      <td>30</td>\n",
       "      <td>62</td>\n",
       "      <td>3</td>\n",
       "      <td>1</td>\n",
       "    </tr>\n",
       "    <tr>\n",
       "      <th>1</th>\n",
       "      <td>30</td>\n",
       "      <td>65</td>\n",
       "      <td>0</td>\n",
       "      <td>1</td>\n",
       "    </tr>\n",
       "    <tr>\n",
       "      <th>2</th>\n",
       "      <td>31</td>\n",
       "      <td>59</td>\n",
       "      <td>2</td>\n",
       "      <td>1</td>\n",
       "    </tr>\n",
       "    <tr>\n",
       "      <th>3</th>\n",
       "      <td>31</td>\n",
       "      <td>65</td>\n",
       "      <td>4</td>\n",
       "      <td>1</td>\n",
       "    </tr>\n",
       "    <tr>\n",
       "      <th>4</th>\n",
       "      <td>33</td>\n",
       "      <td>58</td>\n",
       "      <td>10</td>\n",
       "      <td>1</td>\n",
       "    </tr>\n",
       "  </tbody>\n",
       "</table>\n",
       "</div>"
      ],
      "text/plain": [
       "   Age  Year_of_treatment  No_of_pos_ax_nodes  survival_status\n",
       "0   30                 62                   3                1\n",
       "1   30                 65                   0                1\n",
       "2   31                 59                   2                1\n",
       "3   31                 65                   4                1\n",
       "4   33                 58                  10                1"
      ]
     },
     "execution_count": 163,
     "metadata": {},
     "output_type": "execute_result"
    }
   ],
   "source": [
    "data.head()"
   ]
  },
  {
   "cell_type": "code",
   "execution_count": 164,
   "metadata": {},
   "outputs": [
    {
     "name": "stdout",
     "output_type": "stream",
     "text": [
      "<class 'pandas.core.frame.DataFrame'>\n",
      "RangeIndex: 305 entries, 0 to 304\n",
      "Data columns (total 4 columns):\n",
      " #   Column              Non-Null Count  Dtype\n",
      "---  ------              --------------  -----\n",
      " 0   Age                 305 non-null    int64\n",
      " 1   Year_of_treatment   305 non-null    int64\n",
      " 2   No_of_pos_ax_nodes  305 non-null    int64\n",
      " 3   survival_status     305 non-null    int64\n",
      "dtypes: int64(4)\n",
      "memory usage: 9.6 KB\n"
     ]
    }
   ],
   "source": [
    "data.info()"
   ]
  },
  {
   "cell_type": "code",
   "execution_count": 165,
   "metadata": {},
   "outputs": [
    {
     "data": {
      "image/png": "[encoded data removed]",
      "text/plain": [
       "<Figure size 432x288 with 2 Axes>"
      ]
     },
     "metadata": {
      "needs_background": "light"
     },
     "output_type": "display_data"
    }
   ],
   "source": [
    "sbn.heatmap(data.corr(),annot=True,linewidths=0.5,linecolor='black',cmap = 'rainbow_r')\n",
    "plt.show()"
   ]
  },
  {
   "cell_type": "code",
   "execution_count": 166,
   "metadata": {},
   "outputs": [],
   "source": [
    "#No Multi Collinearity"
   ]
  },
  {
   "cell_type": "markdown",
   "metadata": {},
   "source": [
    "#### AGE"
   ]
  },
  {
   "cell_type": "code",
   "execution_count": 167,
   "metadata": {},
   "outputs": [
    {
     "data": {
      "image/png": "[encoded data removed]",
      "text/plain": [
       "<Figure size 1080x504 with 2 Axes>"
      ]
     },
     "metadata": {
      "needs_background": "light"
     },
     "output_type": "display_data"
    }
   ],
   "source": [
    "plt.figure(figsize=[15,7])\n",
    "plt.subplot(1,2,1)\n",
    "data['Age'].plot.hist(color='orange',edgecolor='black')\n",
    "plt.xlabel('Age')\n",
    "plt.title('Age v/s Freguency')\n",
    "plt.subplot(1,2,2)\n",
    "sbn.boxplot(x='Age',data=data,palette='Greens')\n",
    "plt.show()"
   ]
  },
  {
   "cell_type": "code",
   "execution_count": 168,
   "metadata": {},
   "outputs": [],
   "source": [
    "# No Outliers Present in the Age feature"
   ]
  },
  {
   "cell_type": "markdown",
   "metadata": {},
   "source": [
    "#### Year Of Treatment"
   ]
  },
  {
   "cell_type": "code",
   "execution_count": 169,
   "metadata": {},
   "outputs": [
    {
     "name": "stderr",
     "output_type": "stream",
     "text": [
      "c:\\users\\legion\\appdata\\local\\programs\\python\\python38-32\\lib\\site-packages\\seaborn\\distributions.py:2551: FutureWarning: `distplot` is a deprecated function and will be removed in a future version. Please adapt your code to use either `displot` (a figure-level function with similar flexibility) or `histplot` (an axes-level function for histograms).\n",
      "  warnings.warn(msg, FutureWarning)\n"
     ]
    },
    {
     "data": {
      "image/png": "[encoded data removed]",
      "text/plain": [
       "<Figure size 432x288 with 1 Axes>"
      ]
     },
     "metadata": {
      "needs_background": "light"
     },
     "output_type": "display_data"
    }
   ],
   "source": [
    "sbn.distplot(x=data['Year_of_treatment'],color='orange',hist_kws={\"histtype\": \"step\", \"linewidth\": 3,\n",
    "                             \"color\": \"g\"},kde=False)\n",
    "plt.show()"
   ]
  },
  {
   "cell_type": "code",
   "execution_count": null,
   "metadata": {},
   "outputs": [],
   "source": []
  },
  {
   "cell_type": "code",
   "execution_count": 170,
   "metadata": {},
   "outputs": [
    {
     "data": {
      "text/plain": [
       "<seaborn.axisgrid.PairGrid at 0x20d50328>"
      ]
     },
     "execution_count": 170,
     "metadata": {},
     "output_type": "execute_result"
    },
    {
     "data": {
      "image/png": "[encoded data removed]",
      "text/plain": [
       "<Figure size 720x720 with 20 Axes>"
      ]
     },
     "metadata": {
      "needs_background": "light"
     },
     "output_type": "display_data"
    }
   ],
   "source": [
    "sbn.pairplot(data)"
   ]
  },
  {
   "cell_type": "code",
   "execution_count": null,
   "metadata": {},
   "outputs": [],
   "source": []
  },
  {
   "cell_type": "code",
   "execution_count": 171,
   "metadata": {},
   "outputs": [
    {
     "data": {
      "text/html": [
       "<div>\n",
       "<style scoped>\n",
       "    .dataframe tbody tr th:only-of-type {\n",
       "        vertical-align: middle;\n",
       "    }\n",
       "\n",
       "    .dataframe tbody tr th {\n",
       "        vertical-align: top;\n",
       "    }\n",
       "\n",
       "    .dataframe thead th {\n",
       "        text-align: right;\n",
       "    }\n",
       "</style>\n",
       "<table border=\"1\" class=\"dataframe\">\n",
       "  <thead>\n",
       "    <tr style=\"text-align: right;\">\n",
       "      <th></th>\n",
       "      <th>Age</th>\n",
       "      <th>Year_of_treatment</th>\n",
       "      <th>No_of_pos_ax_nodes</th>\n",
       "      <th>survival_status</th>\n",
       "    </tr>\n",
       "  </thead>\n",
       "  <tbody>\n",
       "    <tr>\n",
       "      <th>0</th>\n",
       "      <td>30</td>\n",
       "      <td>62</td>\n",
       "      <td>3</td>\n",
       "      <td>1</td>\n",
       "    </tr>\n",
       "    <tr>\n",
       "      <th>1</th>\n",
       "      <td>30</td>\n",
       "      <td>65</td>\n",
       "      <td>0</td>\n",
       "      <td>1</td>\n",
       "    </tr>\n",
       "    <tr>\n",
       "      <th>2</th>\n",
       "      <td>31</td>\n",
       "      <td>59</td>\n",
       "      <td>2</td>\n",
       "      <td>1</td>\n",
       "    </tr>\n",
       "    <tr>\n",
       "      <th>3</th>\n",
       "      <td>31</td>\n",
       "      <td>65</td>\n",
       "      <td>4</td>\n",
       "      <td>1</td>\n",
       "    </tr>\n",
       "    <tr>\n",
       "      <th>4</th>\n",
       "      <td>33</td>\n",
       "      <td>58</td>\n",
       "      <td>10</td>\n",
       "      <td>1</td>\n",
       "    </tr>\n",
       "  </tbody>\n",
       "</table>\n",
       "</div>"
      ],
      "text/plain": [
       "   Age  Year_of_treatment  No_of_pos_ax_nodes  survival_status\n",
       "0   30                 62                   3                1\n",
       "1   30                 65                   0                1\n",
       "2   31                 59                   2                1\n",
       "3   31                 65                   4                1\n",
       "4   33                 58                  10                1"
      ]
     },
     "execution_count": 171,
     "metadata": {},
     "output_type": "execute_result"
    }
   ],
   "source": [
    "data.head()"
   ]
  },
  {
   "cell_type": "code",
   "execution_count": 172,
   "metadata": {},
   "outputs": [
    {
     "data": {
      "text/plain": [
       "count    305.000000\n",
       "mean      52.531148\n",
       "std       10.744024\n",
       "min       30.000000\n",
       "25%       44.000000\n",
       "50%       52.000000\n",
       "75%       61.000000\n",
       "max       83.000000\n",
       "Name: Age, dtype: float64"
      ]
     },
     "execution_count": 172,
     "metadata": {},
     "output_type": "execute_result"
    }
   ],
   "source": [
    "data['Age'].describe()"
   ]
  },
  {
   "cell_type": "markdown",
   "metadata": {},
   "source": [
    "## FEATURE SCALING"
   ]
  },
  {
   "cell_type": "code",
   "execution_count": 173,
   "metadata": {},
   "outputs": [],
   "source": [
    "x = data.drop('survival_status',axis=1)\n",
    "y = data['survival_status']"
   ]
  },
  {
   "cell_type": "code",
   "execution_count": 174,
   "metadata": {},
   "outputs": [
    {
     "data": {
      "text/plain": [
       "array([[-2.10053274e+00, -2.61387704e-01, -1.44147084e-01],\n",
       "       [-2.10053274e+00,  6.62047621e-01, -5.61535003e-01],\n",
       "       [-2.00730479e+00, -1.18482303e+00, -2.83276391e-01],\n",
       "       [-2.00730479e+00,  6.62047621e-01, -5.01777826e-03],\n",
       "       [-1.82084888e+00, -1.49263480e+00,  8.29758059e-01],\n",
       "       [-1.82084888e+00, -8.77011254e-01, -5.61535003e-01],\n",
       "       [-1.72762093e+00, -1.18482303e+00, -5.61535003e-01],\n",
       "       [-1.72762093e+00,  9.69859396e-01,  6.90628753e-01],\n",
       "       [-1.72762093e+00, -1.49263480e+00,  3.61234418e+00],\n",
       "       [-1.72762093e+00, -8.77011254e-01, -4.22405697e-01],\n",
       "       [-1.72762093e+00, -5.69199479e-01,  8.29758059e-01],\n",
       "       [-1.72762093e+00,  1.27767117e+00,  4.12370140e-01],\n",
       "       [-1.72762093e+00, -8.77011254e-01, -5.61535003e-01],\n",
       "       [-1.63439298e+00,  3.54235846e-01,  1.24714598e+00],\n",
       "       [-1.63439298e+00,  4.64240710e-02, -5.61535003e-01],\n",
       "       [-1.54116503e+00, -8.77011254e-01, -4.22405697e-01],\n",
       "       [-1.54116503e+00,  1.89329472e+00, -5.61535003e-01],\n",
       "       [-1.44793708e+00, -8.77011254e-01, -5.61535003e-01],\n",
       "       [-1.44793708e+00,  4.64240710e-02, -5.61535003e-01],\n",
       "       [-1.44793708e+00, -1.49263480e+00, -5.61535003e-01],\n",
       "       [-1.44793708e+00, -1.18482303e+00,  2.73240834e-01],\n",
       "       [-1.44793708e+00, -8.77011254e-01,  1.52540459e+00],\n",
       "       [-1.44793708e+00,  4.64240710e-02, -5.61535003e-01],\n",
       "       [-1.35470912e+00,  1.89329472e+00,  2.36018043e+00],\n",
       "       [-1.35470912e+00, -1.18482303e+00, -2.83276391e-01],\n",
       "       [-1.35470912e+00, -8.77011254e-01, -5.61535003e-01],\n",
       "       [-1.35470912e+00, -8.77011254e-01, -5.61535003e-01],\n",
       "       [-1.35470912e+00, -2.61387704e-01, -1.44147084e-01],\n",
       "       [-1.35470912e+00,  3.54235846e-01, -4.22405697e-01],\n",
       "       [-1.35470912e+00,  9.69859396e-01, -5.61535003e-01],\n",
       "       [-1.35470912e+00,  9.69859396e-01,  9.68887365e-01],\n",
       "       [-1.35470912e+00, -8.77011254e-01, -4.22405697e-01],\n",
       "       [-1.35470912e+00,  1.27767117e+00,  1.34111528e-01],\n",
       "       [-1.26148117e+00,  9.69859396e-01, -5.61535003e-01],\n",
       "       [-1.26148117e+00,  4.64240710e-02, -5.61535003e-01],\n",
       "       [-1.26148117e+00,  1.27767117e+00, -5.61535003e-01],\n",
       "       [-1.26148117e+00, -1.49263480e+00, -5.61535003e-01],\n",
       "       [-1.26148117e+00, -1.18482303e+00, -2.83276391e-01],\n",
       "       [-1.26148117e+00,  4.64240710e-02, -5.01777826e-03],\n",
       "       [-1.16825322e+00, -1.49263480e+00, -2.83276391e-01],\n",
       "       [-1.16825322e+00, -1.49263480e+00, -5.61535003e-01],\n",
       "       [-1.16825322e+00,  6.62047621e-01, -5.61535003e-01],\n",
       "       [-1.07502527e+00, -8.77011254e-01,  2.63843904e+00],\n",
       "       [-1.07502527e+00,  3.54235846e-01, -5.61535003e-01],\n",
       "       [-1.07502527e+00,  1.27767117e+00, -5.61535003e-01],\n",
       "       [-1.07502527e+00, -1.49263480e+00, -5.61535003e-01],\n",
       "       [-1.07502527e+00, -1.18482303e+00,  5.51499447e-01],\n",
       "       [-1.07502527e+00, -1.18482303e+00, -5.61535003e-01],\n",
       "       [-1.07502527e+00,  3.54235846e-01, -5.61535003e-01],\n",
       "       [-1.07502527e+00,  1.89329472e+00,  5.51499447e-01],\n",
       "       [-1.07502527e+00,  6.62047621e-01, -5.61535003e-01],\n",
       "       [-1.07502527e+00,  6.62047621e-01, -5.61535003e-01],\n",
       "       [-9.81797316e-01,  1.89329472e+00, -4.22405697e-01],\n",
       "       [-9.81797316e-01, -1.18482303e+00, -5.61535003e-01],\n",
       "       [-9.81797316e-01, -1.49263480e+00, -5.61535003e-01],\n",
       "       [-9.81797316e-01, -8.77011254e-01, -4.22405697e-01],\n",
       "       [-9.81797316e-01, -1.18482303e+00, -2.83276391e-01],\n",
       "       [-9.81797316e-01, -5.69199479e-01, -5.01777826e-03],\n",
       "       [-9.81797316e-01, -2.61387704e-01,  2.22105112e+00],\n",
       "       [-9.81797316e-01,  6.62047621e-01, -5.61535003e-01],\n",
       "       [-9.81797316e-01,  4.64240710e-02, -4.22405697e-01],\n",
       "       [-8.88569364e-01, -1.49263480e+00,  6.67318892e+00],\n",
       "       [-8.88569364e-01, -1.18482303e+00, -2.83276391e-01],\n",
       "       [-8.88569364e-01,  3.54235846e-01, -5.61535003e-01],\n",
       "       [-8.88569364e-01,  3.54235846e-01, -5.61535003e-01],\n",
       "       [-8.88569364e-01,  4.64240710e-02,  1.38627528e+00],\n",
       "       [-8.88569364e-01,  3.54235846e-01, -2.83276391e-01],\n",
       "       [-8.88569364e-01,  3.54235846e-01, -1.44147084e-01],\n",
       "       [-8.88569364e-01, -8.77011254e-01, -5.61535003e-01],\n",
       "       [-8.88569364e-01,  4.64240710e-02, -2.83276391e-01],\n",
       "       [-8.88569364e-01,  6.62047621e-01, -5.61535003e-01],\n",
       "       [-8.88569364e-01,  9.69859396e-01, -5.01777826e-03],\n",
       "       [-7.95341412e-01,  3.54235846e-01,  2.73240834e-01],\n",
       "       [-7.95341412e-01, -1.49263480e+00,  6.90628753e-01],\n",
       "       [-7.95341412e-01,  4.64240710e-02,  2.08192181e+00],\n",
       "       [-7.95341412e-01, -5.69199479e-01, -5.61535003e-01],\n",
       "       [-7.95341412e-01,  4.64240710e-02, -4.22405697e-01],\n",
       "       [-7.95341412e-01, -5.69199479e-01, -5.61535003e-01],\n",
       "       [-7.95341412e-01,  1.27767117e+00,  1.66453390e+00],\n",
       "       [-7.02113461e-01,  6.62047621e-01,  2.73240834e-01],\n",
       "       [-7.02113461e-01,  9.69859396e-01, -5.61535003e-01],\n",
       "       [-7.02113461e-01,  1.27767117e+00, -4.22405697e-01],\n",
       "       [-7.02113461e-01, -8.77011254e-01, -5.61535003e-01],\n",
       "       [-7.02113461e-01,  1.27767117e+00, -5.61535003e-01],\n",
       "       [-7.02113461e-01, -1.18482303e+00,  1.38627528e+00],\n",
       "       [-7.02113461e-01,  3.54235846e-01, -5.61535003e-01],\n",
       "       [-7.02113461e-01,  1.58548295e+00, -5.61535003e-01],\n",
       "       [-7.02113461e-01,  1.27767117e+00, -4.22405697e-01],\n",
       "       [-6.08885509e-01, -1.49263480e+00, -2.83276391e-01],\n",
       "       [-6.08885509e-01,  1.89329472e+00, -1.44147084e-01],\n",
       "       [-6.08885509e-01, -2.61387704e-01,  1.34111528e-01],\n",
       "       [-6.08885509e-01,  6.62047621e-01,  2.22105112e+00],\n",
       "       [-6.08885509e-01, -2.61387704e-01, -5.61535003e-01],\n",
       "       [-6.08885509e-01, -1.49263480e+00, -1.44147084e-01],\n",
       "       [-6.08885509e-01,  4.64240710e-02, -5.61535003e-01],\n",
       "       [-5.15657557e-01,  4.64240710e-02,  2.63843904e+00],\n",
       "       [-5.15657557e-01, -2.61387704e-01, -5.61535003e-01],\n",
       "       [-5.15657557e-01,  6.62047621e-01, -5.61535003e-01],\n",
       "       [-5.15657557e-01, -5.69199479e-01, -5.61535003e-01],\n",
       "       [-5.15657557e-01,  4.64240710e-02,  2.73240834e-01],\n",
       "       [-5.15657557e-01,  9.69859396e-01, -5.61535003e-01],\n",
       "       [-5.15657557e-01,  1.27767117e+00, -5.61535003e-01],\n",
       "       [-5.15657557e-01, -1.49263480e+00, -1.44147084e-01],\n",
       "       [-5.15657557e-01, -8.77011254e-01, -5.01777826e-03],\n",
       "       [-5.15657557e-01,  1.58548295e+00, -5.01777826e-03],\n",
       "       [-5.15657557e-01,  9.69859396e-01,  1.10801667e+00],\n",
       "       [-4.22429605e-01, -1.49263480e+00,  9.68887365e-01],\n",
       "       [-4.22429605e-01, -1.49263480e+00,  9.68887365e-01],\n",
       "       [-4.22429605e-01,  1.27767117e+00,  4.12370140e-01],\n",
       "       [-4.22429605e-01, -5.69199479e-01,  5.51499447e-01],\n",
       "       [-4.22429605e-01, -2.61387704e-01, -2.83276391e-01],\n",
       "       [-4.22429605e-01,  3.54235846e-01, -5.61535003e-01],\n",
       "       [-4.22429605e-01,  9.69859396e-01, -5.61535003e-01],\n",
       "       [-3.29201653e-01,  4.64240710e-02, -5.61535003e-01],\n",
       "       [-3.29201653e-01,  3.54235846e-01,  8.29758059e-01],\n",
       "       [-3.29201653e-01, -5.69199479e-01, -4.22405697e-01],\n",
       "       [-3.29201653e-01, -2.61387704e-01, -5.61535003e-01],\n",
       "       [-3.29201653e-01,  9.69859396e-01, -5.61535003e-01],\n",
       "       [-3.29201653e-01, -8.77011254e-01, -4.22405697e-01],\n",
       "       [-3.29201653e-01, -2.61387704e-01, -4.22405697e-01],\n",
       "       [-3.29201653e-01,  4.64240710e-02, -1.44147084e-01],\n",
       "       [-3.29201653e-01, -5.69199479e-01, -5.61535003e-01],\n",
       "       [-3.29201653e-01,  1.27767117e+00, -4.22405697e-01],\n",
       "       [-2.35973701e-01,  4.64240710e-02,  1.24714598e+00],\n",
       "       [-2.35973701e-01,  3.54235846e-01, -5.61535003e-01],\n",
       "       [-2.35973701e-01, -1.18482303e+00, -5.61535003e-01],\n",
       "       [-2.35973701e-01, -5.69199479e-01,  2.73240834e-01],\n",
       "       [-2.35973701e-01, -5.69199479e-01, -5.61535003e-01],\n",
       "       [-2.35973701e-01,  4.64240710e-02, -4.22405697e-01],\n",
       "       [-2.35973701e-01, -1.49263480e+00, -4.22405697e-01],\n",
       "       [-2.35973701e-01, -1.18482303e+00, -2.83276391e-01],\n",
       "       [-2.35973701e-01, -5.69199479e-01, -5.61535003e-01],\n",
       "       [-2.35973701e-01,  3.54235846e-01, -5.61535003e-01],\n",
       "       [-2.35973701e-01,  6.62047621e-01, -5.01777826e-03],\n",
       "       [-2.35973701e-01,  9.69859396e-01, -4.22405697e-01],\n",
       "       [-1.42745749e-01, -1.18482303e+00,  1.24714598e+00],\n",
       "       [-1.42745749e-01, -1.18482303e+00, -1.44147084e-01],\n",
       "       [-1.42745749e-01,  3.54235846e-01,  4.12370140e-01],\n",
       "       [-1.42745749e-01, -1.18482303e+00, -4.22405697e-01],\n",
       "       [-1.42745749e-01,  6.62047621e-01, -5.61535003e-01],\n",
       "       [-1.42745749e-01,  9.69859396e-01, -4.22405697e-01],\n",
       "       [-4.95177974e-02,  1.89329472e+00, -1.44147084e-01],\n",
       "       [-4.95177974e-02, -1.18482303e+00, -2.83276391e-01],\n",
       "       [-4.95177974e-02, -2.61387704e-01, -1.44147084e-01],\n",
       "       [-4.95177974e-02,  9.69859396e-01, -5.01777826e-03],\n",
       "       [-4.95177974e-02, -5.69199479e-01, -5.61535003e-01],\n",
       "       [-4.95177974e-02,  4.64240710e-02, -5.01777826e-03],\n",
       "       [-4.95177974e-02,  1.89329472e+00, -5.61535003e-01],\n",
       "       [-4.95177974e-02, -8.77011254e-01, -5.01777826e-03],\n",
       "       [-4.95177974e-02, -8.77011254e-01,  1.34111528e-01],\n",
       "       [-4.95177974e-02, -2.61387704e-01, -5.61535003e-01],\n",
       "       [-4.95177974e-02, -2.61387704e-01, -4.22405697e-01],\n",
       "       [-4.95177974e-02,  3.54235846e-01, -5.61535003e-01],\n",
       "       [-4.95177974e-02,  6.62047621e-01, -5.61535003e-01],\n",
       "       [-4.95177974e-02,  1.58548295e+00, -5.61535003e-01],\n",
       "       [ 4.37101545e-02, -1.49263480e+00, -5.01777826e-03],\n",
       "       [ 4.37101545e-02,  6.62047621e-01, -4.22405697e-01],\n",
       "       [ 4.37101545e-02, -1.18482303e+00, -1.44147084e-01],\n",
       "       [ 4.37101545e-02, -8.77011254e-01,  6.90628753e-01],\n",
       "       [ 4.37101545e-02,  4.64240710e-02,  2.77756835e+00],\n",
       "       [ 4.37101545e-02,  6.62047621e-01,  1.10801667e+00],\n",
       "       [ 4.37101545e-02, -1.49263480e+00, -4.22405697e-01],\n",
       "       [ 4.37101545e-02, -8.77011254e-01, -4.22405697e-01],\n",
       "       [ 4.37101545e-02, -8.77011254e-01, -2.83276391e-01],\n",
       "       [ 4.37101545e-02, -5.69199479e-01, -4.22405697e-01],\n",
       "       [ 4.37101545e-02,  4.64240710e-02, -5.61535003e-01],\n",
       "       [ 1.36938106e-01, -8.77011254e-01,  9.68887365e-01],\n",
       "       [ 1.36938106e-01,  6.62047621e-01,  2.63843904e+00],\n",
       "       [ 1.36938106e-01,  6.62047621e-01,  1.34111528e-01],\n",
       "       [ 1.36938106e-01,  1.58548295e+00,  4.12370140e-01],\n",
       "       [ 1.36938106e-01, -1.18482303e+00,  4.12370140e-01],\n",
       "       [ 1.36938106e-01, -8.77011254e-01, -1.44147084e-01],\n",
       "       [ 1.36938106e-01,  9.69859396e-01, -5.61535003e-01],\n",
       "       [ 1.36938106e-01,  1.27767117e+00,  5.83841308e+00],\n",
       "       [ 1.36938106e-01, -2.61387704e-01, -5.61535003e-01],\n",
       "       [ 1.36938106e-01,  1.89329472e+00,  4.12370140e-01],\n",
       "       [ 1.36938106e-01,  4.64240710e-02,  2.08192181e+00],\n",
       "       [ 1.36938106e-01, -1.49263480e+00, -4.22405697e-01],\n",
       "       [ 1.36938106e-01, -2.61387704e-01, -5.61535003e-01],\n",
       "       [ 2.30166058e-01,  4.64240710e-02,  2.73240834e-01],\n",
       "       [ 2.30166058e-01,  1.58548295e+00,  1.52540459e+00],\n",
       "       [ 2.30166058e-01, -1.49263480e+00, -4.22405697e-01],\n",
       "       [ 2.30166058e-01, -1.49263480e+00, -5.61535003e-01],\n",
       "       [ 2.30166058e-01, -1.49263480e+00, -4.22405697e-01],\n",
       "       [ 2.30166058e-01,  9.69859396e-01,  1.94279251e+00],\n",
       "       [ 2.30166058e-01,  9.69859396e-01, -5.61535003e-01],\n",
       "       [ 2.30166058e-01,  1.89329472e+00, -1.44147084e-01],\n",
       "       [ 2.30166058e-01,  1.89329472e+00,  2.49930973e+00],\n",
       "       [ 2.30166058e-01,  1.27767117e+00, -4.22405697e-01],\n",
       "       [ 3.23394010e-01,  6.62047621e-01,  6.90628753e-01],\n",
       "       [ 3.23394010e-01,  9.69859396e-01, -1.44147084e-01],\n",
       "       [ 3.23394010e-01, -8.77011254e-01, -5.61535003e-01],\n",
       "       [ 3.23394010e-01,  9.69859396e-01, -2.83276391e-01],\n",
       "       [ 3.23394010e-01,  9.69859396e-01, -4.22405697e-01],\n",
       "       [ 3.23394010e-01,  1.27767117e+00, -5.61535003e-01],\n",
       "       [ 3.23394010e-01, -8.77011254e-01, -5.61535003e-01],\n",
       "       [ 4.16621962e-01, -5.69199479e-01,  1.34111528e-01],\n",
       "       [ 4.16621962e-01, -2.61387704e-01,  1.38627528e+00],\n",
       "       [ 4.16621962e-01,  3.54235846e-01, -4.22405697e-01],\n",
       "       [ 4.16621962e-01,  3.54235846e-01,  6.90628753e-01],\n",
       "       [ 4.16621962e-01,  1.89329472e+00, -5.61535003e-01],\n",
       "       [ 4.16621962e-01, -5.69199479e-01, -5.61535003e-01],\n",
       "       [ 4.16621962e-01, -2.61387704e-01, -5.61535003e-01],\n",
       "       [ 4.16621962e-01,  4.64240710e-02, -5.61535003e-01],\n",
       "       [ 4.16621962e-01,  3.54235846e-01, -5.61535003e-01],\n",
       "       [ 4.16621962e-01,  3.54235846e-01, -5.61535003e-01],\n",
       "       [ 4.16621962e-01,  1.27767117e+00, -5.61535003e-01],\n",
       "       [ 5.09849914e-01, -1.18482303e+00, -5.61535003e-01],\n",
       "       [ 5.09849914e-01, -8.77011254e-01, -1.44147084e-01],\n",
       "       [ 5.09849914e-01, -5.69199479e-01, -4.22405697e-01],\n",
       "       [ 5.09849914e-01,  1.27767117e+00, -5.61535003e-01],\n",
       "       [ 5.09849914e-01, -1.49263480e+00, -5.61535003e-01],\n",
       "       [ 5.09849914e-01, -1.49263480e+00, -1.44147084e-01],\n",
       "       [ 5.09849914e-01, -5.69199479e-01, -2.83276391e-01],\n",
       "       [ 6.03077866e-01, -2.61387704e-01,  4.30799071e+00],\n",
       "       [ 6.03077866e-01, -8.77011254e-01, -5.61535003e-01],\n",
       "       [ 6.03077866e-01,  4.64240710e-02, -5.61535003e-01],\n",
       "       [ 6.03077866e-01,  3.54235846e-01, -4.22405697e-01],\n",
       "       [ 6.03077866e-01,  3.54235846e-01, -5.01777826e-03],\n",
       "       [ 6.03077866e-01,  3.54235846e-01, -5.61535003e-01],\n",
       "       [ 6.03077866e-01,  3.54235846e-01,  4.12370140e-01],\n",
       "       [ 6.03077866e-01,  1.27767117e+00, -1.44147084e-01],\n",
       "       [ 6.96305818e-01, -1.18482303e+00,  1.80366320e+00],\n",
       "       [ 6.96305818e-01,  6.62047621e-01, -5.61535003e-01],\n",
       "       [ 6.96305818e-01, -5.69199479e-01, -4.22405697e-01],\n",
       "       [ 6.96305818e-01,  1.27767117e+00, -2.83276391e-01],\n",
       "       [ 6.96305818e-01, -5.69199479e-01,  2.91669765e+00],\n",
       "       [ 6.96305818e-01,  3.54235846e-01, -5.61535003e-01],\n",
       "       [ 7.89533770e-01, -2.61387704e-01,  1.34111528e-01],\n",
       "       [ 7.89533770e-01,  6.62047621e-01, -5.61535003e-01],\n",
       "       [ 7.89533770e-01,  1.58548295e+00, -4.22405697e-01],\n",
       "       [ 7.89533770e-01, -1.18482303e+00, -5.61535003e-01],\n",
       "       [ 7.89533770e-01, -1.18482303e+00, -5.61535003e-01],\n",
       "       [ 7.89533770e-01,  3.54235846e-01, -5.61535003e-01],\n",
       "       [ 7.89533770e-01,  6.62047621e-01,  5.51499447e-01],\n",
       "       [ 7.89533770e-01,  1.58548295e+00, -5.61535003e-01],\n",
       "       [ 7.89533770e-01, -1.18482303e+00, -5.61535003e-01],\n",
       "       [ 8.82761721e-01, -1.18482303e+00,  1.24714598e+00],\n",
       "       [ 8.82761721e-01, -1.49263480e+00, -5.61535003e-01],\n",
       "       [ 8.82761721e-01,  6.62047621e-01,  2.08192181e+00],\n",
       "       [ 8.82761721e-01, -2.61387704e-01,  2.73240834e-01],\n",
       "       [ 8.82761721e-01,  9.69859396e-01, -5.61535003e-01],\n",
       "       [ 8.82761721e-01,  9.69859396e-01, -5.61535003e-01],\n",
       "       [ 8.82761721e-01, -1.49263480e+00, -5.61535003e-01],\n",
       "       [ 9.75989673e-01, -8.77011254e-01, -4.22405697e-01],\n",
       "       [ 9.75989673e-01, -5.69199479e-01, -5.61535003e-01],\n",
       "       [ 9.75989673e-01, -2.61387704e-01, -5.61535003e-01],\n",
       "       [ 9.75989673e-01,  4.64240710e-02, -5.61535003e-01],\n",
       "       [ 9.75989673e-01,  4.64240710e-02, -5.61535003e-01],\n",
       "       [ 9.75989673e-01,  9.69859396e-01, -5.61535003e-01],\n",
       "       [ 9.75989673e-01, -5.69199479e-01,  6.90628753e-01],\n",
       "       [ 9.75989673e-01, -5.69199479e-01,  3.33408557e+00],\n",
       "       [ 1.06921763e+00, -1.49263480e+00, -5.61535003e-01],\n",
       "       [ 1.06921763e+00,  6.62047621e-01,  2.49930973e+00],\n",
       "       [ 1.06921763e+00,  9.69859396e-01, -5.61535003e-01],\n",
       "       [ 1.06921763e+00, -5.69199479e-01, -5.61535003e-01],\n",
       "       [ 1.06921763e+00,  1.58548295e+00, -5.61535003e-01],\n",
       "       [ 1.16244558e+00, -1.49263480e+00, -5.61535003e-01],\n",
       "       [ 1.16244558e+00, -5.69199479e-01, -2.83276391e-01],\n",
       "       [ 1.16244558e+00, -2.61387704e-01,  2.49930973e+00],\n",
       "       [ 1.16244558e+00,  9.69859396e-01,  1.52540459e+00],\n",
       "       [ 1.16244558e+00, -1.49263480e+00, -5.61535003e-01],\n",
       "       [ 1.16244558e+00,  3.54235846e-01, -5.61535003e-01],\n",
       "       [ 1.16244558e+00,  1.27767117e+00, -5.61535003e-01],\n",
       "       [ 1.16244558e+00, -1.18482303e+00, -2.83276391e-01],\n",
       "       [ 1.16244558e+00,  3.54235846e-01, -5.61535003e-01],\n",
       "       [ 1.16244558e+00,  1.27767117e+00, -4.22405697e-01],\n",
       "       [ 1.25567353e+00, -1.49263480e+00, -5.61535003e-01],\n",
       "       [ 1.25567353e+00, -5.69199479e-01,  1.24714598e+00],\n",
       "       [ 1.25567353e+00, -1.49263480e+00, -5.61535003e-01],\n",
       "       [ 1.25567353e+00, -1.49263480e+00, -4.22405697e-01],\n",
       "       [ 1.25567353e+00,  1.58548295e+00, -5.61535003e-01],\n",
       "       [ 1.34890148e+00,  3.54235846e-01,  5.51499447e-01],\n",
       "       [ 1.34890148e+00,  4.64240710e-02, -4.22405697e-01],\n",
       "       [ 1.34890148e+00,  9.69859396e-01, -5.61535003e-01],\n",
       "       [ 1.34890148e+00,  9.69859396e-01, -5.61535003e-01],\n",
       "       [ 1.34890148e+00, -5.69199479e-01, -5.61535003e-01],\n",
       "       [ 1.34890148e+00,  6.62047621e-01, -5.61535003e-01],\n",
       "       [ 1.44212943e+00,  1.27767117e+00, -5.61535003e-01],\n",
       "       [ 1.44212943e+00,  1.58548295e+00, -5.61535003e-01],\n",
       "       [ 1.53535738e+00,  1.27767117e+00,  5.51499447e-01],\n",
       "       [ 1.53535738e+00, -8.77011254e-01, -5.61535003e-01],\n",
       "       [ 1.53535738e+00,  6.62047621e-01, -5.61535003e-01],\n",
       "       [ 1.53535738e+00,  9.69859396e-01, -5.61535003e-01],\n",
       "       [ 1.62858534e+00, -1.49263480e+00, -5.61535003e-01],\n",
       "       [ 1.62858534e+00, -1.49263480e+00, -5.01777826e-03],\n",
       "       [ 1.62858534e+00,  9.69859396e-01,  1.38627528e+00],\n",
       "       [ 1.62858534e+00,  1.27767117e+00, -5.61535003e-01],\n",
       "       [ 1.62858534e+00,  1.58548295e+00, -5.61535003e-01],\n",
       "       [ 1.62858534e+00, -1.18482303e+00,  5.51499447e-01],\n",
       "       [ 1.62858534e+00,  4.64240710e-02, -5.61535003e-01],\n",
       "       [ 1.72181329e+00,  1.58548295e+00, -2.83276391e-01],\n",
       "       [ 1.81504124e+00,  4.64240710e-02, -5.61535003e-01],\n",
       "       [ 1.81504124e+00, -1.49263480e+00, -5.61535003e-01],\n",
       "       [ 1.81504124e+00,  3.54235846e-01, -5.61535003e-01],\n",
       "       [ 1.81504124e+00,  1.27767117e+00, -1.44147084e-01],\n",
       "       [ 1.90826919e+00, -2.61387704e-01, -5.61535003e-01],\n",
       "       [ 1.90826919e+00,  1.58548295e+00, -5.61535003e-01],\n",
       "       [ 2.00149714e+00,  6.62047621e-01, -1.44147084e-01],\n",
       "       [ 2.00149714e+00,  4.64240710e-02, -5.61535003e-01],\n",
       "       [ 2.09472510e+00, -2.61387704e-01, -4.22405697e-01],\n",
       "       [ 2.18795305e+00,  1.27767117e+00, -5.61535003e-01],\n",
       "       [ 2.28118100e+00,  6.62047621e-01, -1.44147084e-01],\n",
       "       [ 2.37440895e+00,  6.62047621e-01, -4.22405697e-01],\n",
       "       [ 2.84054871e+00, -1.49263480e+00, -2.83276391e-01]])"
      ]
     },
     "execution_count": 174,
     "metadata": {},
     "output_type": "execute_result"
    }
   ],
   "source": [
    "from sklearn.preprocessing import StandardScaler\n",
    "scaler = StandardScaler()\n",
    "scaler.fit_transform(x)\n"
   ]
  },
  {
   "cell_type": "code",
   "execution_count": 175,
   "metadata": {},
   "outputs": [
    {
     "data": {
      "text/plain": [
       "(305,)"
      ]
     },
     "execution_count": 175,
     "metadata": {},
     "output_type": "execute_result"
    }
   ],
   "source": [
    "y.shape"
   ]
  },
  {
   "cell_type": "code",
   "execution_count": 176,
   "metadata": {},
   "outputs": [
    {
     "data": {
      "text/plain": [
       "(305, 3)"
      ]
     },
     "execution_count": 176,
     "metadata": {},
     "output_type": "execute_result"
    }
   ],
   "source": [
    "x.shape"
   ]
  },
  {
   "cell_type": "code",
   "execution_count": 177,
   "metadata": {},
   "outputs": [],
   "source": [
    "from sklearn.model_selection import train_test_split\n",
    "x_train,x_test,y_train,y_test = train_test_split(x,y,test_size=0.3,random_state=39)"
   ]
  },
  {
   "cell_type": "markdown",
   "metadata": {},
   "source": [
    "## Logistic Regression"
   ]
  },
  {
   "cell_type": "code",
   "execution_count": 178,
   "metadata": {},
   "outputs": [
    {
     "data": {
      "text/plain": [
       "LogisticRegression(C=1.0, class_weight=None, dual=False, fit_intercept=True,\n",
       "                   intercept_scaling=1, l1_ratio=None, max_iter=100,\n",
       "                   multi_class='auto', n_jobs=None, penalty='l2',\n",
       "                   random_state=None, solver='lbfgs', tol=0.0001, verbose=0,\n",
       "                   warm_start=False)"
      ]
     },
     "execution_count": 178,
     "metadata": {},
     "output_type": "execute_result"
    }
   ],
   "source": [
    "from sklearn.linear_model import LogisticRegression\n",
    "logreg = LogisticRegression()\n",
    "logreg.fit(x_train,y_train)\n"
   ]
  },
  {
   "cell_type": "code",
   "execution_count": 179,
   "metadata": {},
   "outputs": [],
   "source": [
    "y_pred = logreg.predict(x_test)"
   ]
  },
  {
   "cell_type": "code",
   "execution_count": 180,
   "metadata": {},
   "outputs": [
    {
     "name": "stdout",
     "output_type": "stream",
     "text": [
      "[[73  2]\n",
      " [12  5]]\n",
      "              precision    recall  f1-score   support\n",
      "\n",
      "           1       0.86      0.97      0.91        75\n",
      "           2       0.71      0.29      0.42        17\n",
      "\n",
      "    accuracy                           0.85        92\n",
      "   macro avg       0.79      0.63      0.66        92\n",
      "weighted avg       0.83      0.85      0.82        92\n",
      "\n",
      "0.8478260869565217\n"
     ]
    }
   ],
   "source": [
    "from sklearn import metrics\n",
    "print(metrics.confusion_matrix(y_test,y_pred))\n",
    "print(metrics.classification_report(y_test,y_pred))\n",
    "print(metrics.accuracy_score(y_test,y_pred))"
   ]
  },
  {
   "cell_type": "code",
   "execution_count": null,
   "metadata": {},
   "outputs": [],
   "source": []
  },
  {
   "cell_type": "markdown",
   "metadata": {},
   "source": [
    "## Decision Tree"
   ]
  },
  {
   "cell_type": "code",
   "execution_count": 181,
   "metadata": {},
   "outputs": [
    {
     "data": {
      "text/plain": [
       "DecisionTreeClassifier(ccp_alpha=0.0, class_weight=None, criterion='gini',\n",
       "                       max_depth=None, max_features=None, max_leaf_nodes=None,\n",
       "                       min_impurity_decrease=0.0, min_impurity_split=None,\n",
       "                       min_samples_leaf=1, min_samples_split=2,\n",
       "                       min_weight_fraction_leaf=0.0, presort='deprecated',\n",
       "                       random_state=None, splitter='best')"
      ]
     },
     "execution_count": 181,
     "metadata": {},
     "output_type": "execute_result"
    }
   ],
   "source": [
    "from sklearn.tree import DecisionTreeClassifier\n",
    "dtc = DecisionTreeClassifier()\n",
    "dtc.fit(x_train,y_train)"
   ]
  },
  {
   "cell_type": "code",
   "execution_count": 182,
   "metadata": {},
   "outputs": [],
   "source": [
    "y_pre = dtc.predict(x_test)"
   ]
  },
  {
   "cell_type": "code",
   "execution_count": 183,
   "metadata": {},
   "outputs": [
    {
     "name": "stdout",
     "output_type": "stream",
     "text": [
      "[[56 19]\n",
      " [13  4]]\n",
      "              precision    recall  f1-score   support\n",
      "\n",
      "           1       0.81      0.75      0.78        75\n",
      "           2       0.17      0.24      0.20        17\n",
      "\n",
      "    accuracy                           0.65        92\n",
      "   macro avg       0.49      0.49      0.49        92\n",
      "weighted avg       0.69      0.65      0.67        92\n",
      "\n",
      "0.6521739130434783\n"
     ]
    }
   ],
   "source": [
    "from sklearn import metrics\n",
    "print(metrics.confusion_matrix(y_test,y_pre))\n",
    "print(metrics.classification_report(y_test,y_pre))\n",
    "print(metrics.accuracy_score(y_test,y_pre))"
   ]
  },
  {
   "cell_type": "code",
   "execution_count": null,
   "metadata": {},
   "outputs": [],
   "source": []
  },
  {
   "cell_type": "markdown",
   "metadata": {},
   "source": [
    "## Random Forest Classifier"
   ]
  },
  {
   "cell_type": "code",
   "execution_count": 184,
   "metadata": {},
   "outputs": [],
   "source": [
    "from sklearn.ensemble import RandomForestClassifier\n",
    "rfc = RandomForestClassifier()"
   ]
  },
  {
   "cell_type": "code",
   "execution_count": 185,
   "metadata": {},
   "outputs": [
    {
     "data": {
      "text/plain": [
       "RandomForestClassifier(bootstrap=True, ccp_alpha=0.0, class_weight=None,\n",
       "                       criterion='gini', max_depth=None, max_features='auto',\n",
       "                       max_leaf_nodes=None, max_samples=None,\n",
       "                       min_impurity_decrease=0.0, min_impurity_split=None,\n",
       "                       min_samples_leaf=1, min_samples_split=2,\n",
       "                       min_weight_fraction_leaf=0.0, n_estimators=100,\n",
       "                       n_jobs=None, oob_score=False, random_state=None,\n",
       "                       verbose=0, warm_start=False)"
      ]
     },
     "execution_count": 185,
     "metadata": {},
     "output_type": "execute_result"
    }
   ],
   "source": [
    "rfc.fit(x_train,y_train)"
   ]
  },
  {
   "cell_type": "code",
   "execution_count": 186,
   "metadata": {},
   "outputs": [],
   "source": [
    "y_predd = rfc.predict(x_test)"
   ]
  },
  {
   "cell_type": "code",
   "execution_count": 188,
   "metadata": {},
   "outputs": [
    {
     "name": "stdout",
     "output_type": "stream",
     "text": [
      "[[64 11]\n",
      " [11  6]]\n",
      "              precision    recall  f1-score   support\n",
      "\n",
      "           1       0.85      0.85      0.85        75\n",
      "           2       0.35      0.35      0.35        17\n",
      "\n",
      "    accuracy                           0.76        92\n",
      "   macro avg       0.60      0.60      0.60        92\n",
      "weighted avg       0.76      0.76      0.76        92\n",
      "\n",
      "0.7608695652173914\n"
     ]
    }
   ],
   "source": [
    "from sklearn import metrics\n",
    "print(metrics.confusion_matrix(y_test,y_predd))\n",
    "print(metrics.classification_report(y_test,y_predd))\n",
    "print(metrics.accuracy_score(y_test,y_predd))"
   ]
  },
  {
   "cell_type": "code",
   "execution_count": null,
   "metadata": {},
   "outputs": [],
   "source": []
  },
  {
   "cell_type": "markdown",
   "metadata": {},
   "source": [
    "## KNNClassifier"
   ]
  },
  {
   "cell_type": "code",
   "execution_count": 189,
   "metadata": {},
   "outputs": [
    {
     "data": {
      "text/plain": [
       "KNeighborsClassifier(algorithm='auto', leaf_size=30, metric='minkowski',\n",
       "                     metric_params=None, n_jobs=None, n_neighbors=5, p=2,\n",
       "                     weights='uniform')"
      ]
     },
     "execution_count": 189,
     "metadata": {},
     "output_type": "execute_result"
    }
   ],
   "source": [
    "from sklearn.neighbors import KNeighborsClassifier\n",
    "knc = KNeighborsClassifier()\n",
    "knc.fit(x_train,y_train)"
   ]
  },
  {
   "cell_type": "code",
   "execution_count": 190,
   "metadata": {},
   "outputs": [],
   "source": [
    "y_predi = knc.predict(x_test)"
   ]
  },
  {
   "cell_type": "code",
   "execution_count": 191,
   "metadata": {},
   "outputs": [
    {
     "name": "stdout",
     "output_type": "stream",
     "text": [
      "[[66  9]\n",
      " [ 8  9]]\n",
      "              precision    recall  f1-score   support\n",
      "\n",
      "           1       0.89      0.88      0.89        75\n",
      "           2       0.50      0.53      0.51        17\n",
      "\n",
      "    accuracy                           0.82        92\n",
      "   macro avg       0.70      0.70      0.70        92\n",
      "weighted avg       0.82      0.82      0.82        92\n",
      "\n",
      "0.8152173913043478\n"
     ]
    }
   ],
   "source": [
    "from sklearn import metrics\n",
    "print(metrics.confusion_matrix(y_test,y_predi))\n",
    "print(metrics.classification_report(y_test,y_predi))\n",
    "print(metrics.accuracy_score(y_test,y_predi))"
   ]
  },
  {
   "cell_type": "code",
   "execution_count": 192,
   "metadata": {},
   "outputs": [],
   "source": [
    "error_rate = []\n",
    "for i in range (1,200,10):\n",
    "    knc = KNeighborsClassifier(i)\n",
    "    knc.fit(x_train,y_train)\n",
    "    predic_i = knc.predict(x_test)\n",
    "    error_rate.append(np.mean(predic_i != y_test))"
   ]
  },
  {
   "cell_type": "code",
   "execution_count": 194,
   "metadata": {},
   "outputs": [
    {
     "data": {
      "image/png": "[encoded data removed]",
      "text/plain": [
       "<Figure size 720x720 with 1 Axes>"
      ]
     },
     "metadata": {
      "needs_background": "light"
     },
     "output_type": "display_data"
    }
   ],
   "source": [
    "plt.figure(figsize=(10,10))\n",
    "plt.plot(range(1,200,10),error_rate,color='blue',linestyle='dashed',marker='o',markerfacecolor='red',markersize=10)\n",
    "plt.title('Error_Rate V/S K-value')\n",
    "plt.xlabel('K-value')\n",
    "plt.ylabel('Error_rate')\n",
    "plt.show()"
   ]
  },
  {
   "cell_type": "code",
   "execution_count": null,
   "metadata": {},
   "outputs": [],
   "source": []
  },
  {
   "cell_type": "code",
   "execution_count": 196,
   "metadata": {},
   "outputs": [
    {
     "name": "stdout",
     "output_type": "stream",
     "text": [
      "[[71  4]\n",
      " [12  5]]\n",
      "              precision    recall  f1-score   support\n",
      "\n",
      "           1       0.86      0.95      0.90        75\n",
      "           2       0.56      0.29      0.38        17\n",
      "\n",
      "    accuracy                           0.83        92\n",
      "   macro avg       0.71      0.62      0.64        92\n",
      "weighted avg       0.80      0.83      0.80        92\n",
      "\n",
      "0.8260869565217391\n"
     ]
    }
   ],
   "source": [
    "from sklearn.neighbors import KNeighborsClassifier\n",
    "knc = KNeighborsClassifier(n_neighbors = 22)\n",
    "knc.fit(x_train,y_train)\n",
    "y_predict = knc.predict(x_test)\n",
    "from sklearn import metrics\n",
    "print(metrics.confusion_matrix(y_test,y_predict))\n",
    "print(metrics.classification_report(y_test,y_predict))\n",
    "print(metrics.accuracy_score(y_test,y_predict))"
   ]
  },
  {
   "cell_type": "code",
   "execution_count": null,
   "metadata": {},
   "outputs": [],
   "source": []
  },
  {
   "cell_type": "code",
   "execution_count": 197,
   "metadata": {},
   "outputs": [
    {
     "name": "stdout",
     "output_type": "stream",
     "text": [
      "[[72  3]\n",
      " [12  5]]\n",
      "              precision    recall  f1-score   support\n",
      "\n",
      "           1       0.86      0.96      0.91        75\n",
      "           2       0.62      0.29      0.40        17\n",
      "\n",
      "    accuracy                           0.84        92\n",
      "   macro avg       0.74      0.63      0.65        92\n",
      "weighted avg       0.81      0.84      0.81        92\n",
      "\n",
      "0.8369565217391305\n"
     ]
    }
   ],
   "source": [
    "from sklearn.neighbors import KNeighborsClassifier\n",
    "knc = KNeighborsClassifier(n_neighbors = 37)\n",
    "knc.fit(x_train,y_train)\n",
    "y_predict = knc.predict(x_test)\n",
    "from sklearn import metrics\n",
    "print(metrics.confusion_matrix(y_test,y_predict))\n",
    "print(metrics.classification_report(y_test,y_predict))\n",
    "print(metrics.accuracy_score(y_test,y_predict))"
   ]
  },
  {
   "cell_type": "code",
   "execution_count": null,
   "metadata": {},
   "outputs": [],
   "source": []
  },
  {
   "cell_type": "code",
   "execution_count": 198,
   "metadata": {},
   "outputs": [
    {
     "name": "stdout",
     "output_type": "stream",
     "text": [
      "[[74  1]\n",
      " [14  3]]\n",
      "              precision    recall  f1-score   support\n",
      "\n",
      "           1       0.84      0.99      0.91        75\n",
      "           2       0.75      0.18      0.29        17\n",
      "\n",
      "    accuracy                           0.84        92\n",
      "   macro avg       0.80      0.58      0.60        92\n",
      "weighted avg       0.82      0.84      0.79        92\n",
      "\n",
      "0.8369565217391305\n"
     ]
    }
   ],
   "source": [
    "from sklearn.neighbors import KNeighborsClassifier\n",
    "knc = KNeighborsClassifier(n_neighbors = 53)\n",
    "knc.fit(x_train,y_train)\n",
    "y_predict = knc.predict(x_test)\n",
    "from sklearn import metrics\n",
    "print(metrics.confusion_matrix(y_test,y_predict))\n",
    "print(metrics.classification_report(y_test,y_predict))\n",
    "print(metrics.accuracy_score(y_test,y_predict))"
   ]
  }
 ],
 "metadata": {
  "kernelspec": {
   "display_name": "Python 3",
   "language": "python",
   "name": "python3"
  },
  "language_info": {
   "codemirror_mode": {
    "name": "ipython",
    "version": 3
   },
   "file_extension": ".py",
   "mimetype": "text/x-python",
   "name": "python",
   "nbconvert_exporter": "python",
   "pygments_lexer": "ipython3",
   "version": "3.8.3"
  }
 },
 "nbformat": 4,
 "nbformat_minor": 4
}
